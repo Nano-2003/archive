{
  "nbformat": 4,
  "nbformat_minor": 0,
  "metadata": {
    "colab": {
      "provenance": [],
      "authorship_tag": "ABX9TyN6bu11kwaBLkZfalFwjeZw",
      "include_colab_link": true
    },
    "kernelspec": {
      "name": "python3",
      "display_name": "Python 3"
    },
    "language_info": {
      "name": "python"
    }
  },
  "cells": [
    {
      "cell_type": "markdown",
      "metadata": {
        "id": "view-in-github",
        "colab_type": "text"
      },
      "source": [
        "<a href=\"https://colab.research.google.com/github/Nano-2003/Calculator/blob/main/EXAMEN3.ipynb\" target=\"_parent\"><img src=\"https://colab.research.google.com/assets/colab-badge.svg\" alt=\"Open In Colab\"/></a>"
      ]
    },
    {
      "cell_type": "code",
      "execution_count": null,
      "metadata": {
        "id": "sR2Muo6R0C9s"
      },
      "outputs": [],
      "source": [
        "#EXAMEN\n",
        "a=1\n",
        "\n",
        "asientos=[{1,2.,3,4,5,6,7,8,9,10},\n",
        "              {11,12,13,14,15,16,17,18,19,20},\n",
        "              {21,22,23,24,25,26,27,28,29,30},\n",
        "              {31,32,33,34,35,36,37,38,39,40},\n",
        "              {41,42,43,44,45,46,47,48,49,50},\n",
        "              {51,52,53,54,55,56,57,58,59,60},\n",
        "              {61,62,63,64,65,66,67,68,69,70},\n",
        "              {71,72,73,74,75,76,77,78,79,80},\n",
        "              {81,82,83,84,85,86,87,88,89,90},\n",
        "              {91,92,93,94,95,96,97,98,99,100}]\n",
        "\n",
        "def op1():\n",
        "  print(\"Selecionaste Comprar Entrada\")\n",
        "  entr=int(input(\"ingrese la cantidad de entradas: \"))\n",
        "  for b in range(1,entr,1):\n",
        "    entra=int(input(\"Ingrese una fila: \"))\n",
        "    asie=int(input(\"Ingrese un asiento: \"))\n",
        "    if op == 1:\n",
        "      asientos[0].remove(asie)\n",
        "      asientos[0].insert(asie-1)(\"X\")\n",
        "\n",
        "\n",
        "\n",
        "\n",
        "\n",
        "\n",
        "def op5():\n",
        "  if op == 5:\n",
        "    print(\"Hasta luego, gracias por visitarnos.\")\n",
        "    print(\" Joaquin Orellana // 12-07-2023\")\n",
        "\n",
        "\n",
        "\n",
        "while a == 1:\n",
        "  print(\" ______________________________________________________\")\n",
        "  print(\"|                Concierto Michael Jam                 |\")\n",
        "  print(\"| Opcion 1 -> Comprar entradas                         |\")\n",
        "  print(\"| Opcion 2 -> Mostrar ubicaciones disponibles          |\")\n",
        "  print(\"| Opcion 3 -> Ver listado de asistentes                |\")\n",
        "  print(\"| Opcion 4 -> Mostrar ganancias totales                |\")\n",
        "  print(\"| Opcion 5 -> Salir                                    |\")\n",
        "  print(\"|______________________________________________________|\")\n",
        "  try:\n",
        "    op=int(input(\"Ingrese una opcion: \"))\n",
        "    if op >0 and op <6:\n",
        "      if op == 1:\n",
        "        op1()\n",
        "      if op == 2:\n",
        "        op2()\n",
        "      if op == 3:\n",
        "        op3()\n",
        "      if op == 4:\n",
        "        op4()\n",
        "      if op == 5:\n",
        "        op5()\n",
        "  except:\n",
        "    print(\"error\")\n",
        "    a=0"
      ]
    },
    {
      "cell_type": "code",
      "source": [],
      "metadata": {
        "id": "-Z_JzyOh83dH"
      },
      "execution_count": null,
      "outputs": []
    }
  ]
}